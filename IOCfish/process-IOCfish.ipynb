{
 "cells": [
  {
   "cell_type": "code",
   "execution_count": 1,
   "metadata": {},
   "outputs": [
    {
     "name": "stdout",
     "output_type": "stream",
     "text": [
      "Missing .xml files for the following .jpg files:\n",
      "4542.jpg\n",
      "2839.jpg\n",
      "0992.jpg\n"
     ]
    }
   ],
   "source": [
    "import os\n",
    "\n",
    "def find_missing_files(directory):\n",
    "    jpg_files = set()\n",
    "    xml_files = set()\n",
    "\n",
    "    # Walk through the directory and collect .jpg and .xml file names without extensions\n",
    "    for file_name in os.listdir(directory):\n",
    "        if file_name.endswith('.jpg'):\n",
    "            jpg_files.add(file_name[:-4])\n",
    "        elif file_name.endswith('.xml'):\n",
    "            xml_files.add(file_name[:-4])\n",
    "    \n",
    "    # Find missing .xml files for each .jpg file\n",
    "    missing_xml_files = jpg_files - xml_files\n",
    "    # Find missing .jpg files for each .xml file\n",
    "    missing_jpg_files = xml_files - jpg_files\n",
    "\n",
    "    # Print missing files\n",
    "    if missing_xml_files:\n",
    "        print(\"Missing .xml files for the following .jpg files:\")\n",
    "        for file_name in missing_xml_files:\n",
    "            print(f\"{file_name}.jpg\")\n",
    "    \n",
    "    if missing_jpg_files:\n",
    "        print(\"Missing .jpg files for the following .xml files:\")\n",
    "        for file_name in missing_jpg_files:\n",
    "            print(f\"{file_name}.xml\")\n",
    "\n",
    "# Replace 'your_directory_path' with the path to your directory\n",
    "find_missing_files('Val')"
   ]
  },
  {
   "cell_type": "code",
   "execution_count": null,
   "metadata": {},
   "outputs": [],
   "source": []
  }
 ],
 "metadata": {
  "kernelspec": {
   "display_name": "base",
   "language": "python",
   "name": "python3"
  },
  "language_info": {
   "codemirror_mode": {
    "name": "ipython",
    "version": 3
   },
   "file_extension": ".py",
   "mimetype": "text/x-python",
   "name": "python",
   "nbconvert_exporter": "python",
   "pygments_lexer": "ipython3",
   "version": "3.11.6"
  }
 },
 "nbformat": 4,
 "nbformat_minor": 2
}
