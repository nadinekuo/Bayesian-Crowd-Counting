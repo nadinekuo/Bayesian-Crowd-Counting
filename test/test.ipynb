{
 "cells": [
  {
   "cell_type": "code",
   "execution_count": 8,
   "metadata": {},
   "outputs": [
    {
     "name": "stdout",
     "output_type": "stream",
     "text": [
      "<PIL.JpegImagePlugin.JpegImageFile image mode=RGB size=4256x2832 at 0x1049D8B10>\n",
      "(2832, 4256, 3)\n",
      "<PIL.Image.Image image mode=RGB size=4256x2832 at 0x127D93750>\n"
     ]
    }
   ],
   "source": [
    "from PIL import Image\n",
    "import numpy as np\n",
    "\n",
    "im = Image.open(\"img_0001.jpg\")\n",
    "print(im)\n",
    "im = np.array(im)\n",
    "print(im.shape)\n",
    "im_arr = Image.fromarray(im)\n",
    "print(im_arr)"
   ]
  },
  {
   "cell_type": "code",
   "execution_count": 10,
   "metadata": {},
   "outputs": [
    {
     "name": "stdout",
     "output_type": "stream",
     "text": [
      "[[ 445.19424 1790.518  ]\n",
      " [ 474.8705  1739.259  ]\n",
      " [ 512.64026 1820.1942 ]\n",
      " ...\n",
      " [ 972.7157  1494.6793 ]\n",
      " [1933.0287   181.25717]\n",
      " [1572.6423   134.19641]]\n",
      "975\n"
     ]
    }
   ],
   "source": [
    "import numpy as np\n",
    "array_loaded = np.load('img_0001_test.npy')\n",
    "# array_loaded = np.load('img_0720_train.npy') # Image: h, w, avg dist to nearest 3 points\n",
    "print(array_loaded)\n",
    "print(len(array_loaded))   "
   ]
  },
  {
   "cell_type": "code",
   "execution_count": null,
   "metadata": {},
   "outputs": [],
   "source": [
    "import scipy.io\n",
    "# mat = scipy.io.loadmat('img_1058_ann.mat')\n",
    "mat = scipy.io.loadmat('GT_IMG_184.mat')['annPoints'].astype(np.float32)\n",
    "print(mat)\n",
    "print(len(mat['annPoints']))"
   ]
  },
  {
   "cell_type": "code",
   "execution_count": null,
   "metadata": {},
   "outputs": [],
   "source": []
  }
 ],
 "metadata": {
  "kernelspec": {
   "display_name": "Python 3",
   "language": "python",
   "name": "python3"
  },
  "language_info": {
   "codemirror_mode": {
    "name": "ipython",
    "version": 3
   },
   "file_extension": ".py",
   "mimetype": "text/x-python",
   "name": "python",
   "nbconvert_exporter": "python",
   "pygments_lexer": "ipython3",
   "version": "3.11.6"
  }
 },
 "nbformat": 4,
 "nbformat_minor": 2
}
