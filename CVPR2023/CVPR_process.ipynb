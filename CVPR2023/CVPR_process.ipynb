{
 "cells": [
  {
   "cell_type": "markdown",
   "metadata": {},
   "source": [
    "## Explore the CVPR2023 Dataset"
   ]
  },
  {
   "cell_type": "code",
   "execution_count": 5,
   "metadata": {},
   "outputs": [
    {
     "name": "stdout",
     "output_type": "stream",
     "text": [
      "Total Number of train imgs: 3137\n",
      "Total Number of test imgs: 2000\n",
      "Total Number of val imgs: 500\n",
      "5637\n"
     ]
    }
   ],
   "source": [
    "\n",
    "with open(r\"../CVPR2023/train.txt\", 'r') as fp:\n",
    "    lines = len(fp.readlines())\n",
    "    print('Total Number of train imgs:', lines)\n",
    "\n",
    "\n",
    "with open(r\"../CVPR2023/test.txt\", 'r') as fp:\n",
    "    lines = len(fp.readlines())\n",
    "    print('Total Number of test imgs:', lines)\n",
    "\n",
    "\n",
    "with open(r\"../CVPR2023/val.txt\", 'r') as fp:\n",
    "    lines = len(fp.readlines())\n",
    "    print('Total Number of val imgs:', lines)\n",
    "\n",
    "print(3137 + 2000 + 500)"
   ]
  },
  {
   "cell_type": "code",
   "execution_count": 3,
   "metadata": {},
   "outputs": [
    {
     "name": "stdout",
     "output_type": "stream",
     "text": [
      "[[ 173 1001]\n",
      " [ 521  704]\n",
      " [ 230  709]\n",
      " [ 311   51]\n",
      " [ 167  190]\n",
      " [ 136  219]\n",
      " [ 267   84]\n",
      " [ 253  137]\n",
      " [ 132  179]\n",
      " [ 182  125]\n",
      " [ 122  167]\n",
      " [  62  203]\n",
      " [  33  247]\n",
      " [  56  217]\n",
      " [   9  207]\n",
      " [  13  147]\n",
      " [  14  127]\n",
      " [  74   71]\n",
      " [  82   59]\n",
      " [  42   57]\n",
      " [  40   22]\n",
      " [  59   15]\n",
      " [ 121   51]\n",
      " [ 141   96]\n",
      " [ 201   67]\n",
      " [ 176   77]\n",
      " [ 164   44]\n",
      " [ 162   13]\n",
      " [  87    2]\n",
      " [ 197    2]\n",
      " [ 372  160]\n",
      " [ 290  159]\n",
      " [ 441  119]\n",
      " [ 390   93]\n",
      " [ 377   99]\n",
      " [ 337   97]\n",
      " [ 276   40]\n",
      " [ 226  258]\n",
      " [ 191  246]\n",
      " [ 161  237]\n",
      " [ 183  217]\n",
      " [ 341  210]\n",
      " [ 309  200]\n",
      " [ 389  190]\n",
      " [ 265  253]\n",
      " [ 282  198]\n",
      " [ 251  209]\n",
      " [ 219  215]\n",
      " [ 296  143]\n",
      " [ 257  186]\n",
      " [ 234  179]\n",
      " [ 313  359]\n",
      " [ 383  252]\n",
      " [ 407  241]\n",
      " [ 499   63]\n",
      " [ 532   87]\n",
      " [ 499  138]\n",
      " [ 507  156]\n",
      " [ 305    1]\n",
      " [ 301   12]\n",
      " [ 287   11]\n",
      " [ 388    3]\n",
      " [ 483    7]\n",
      " [ 299  234]\n",
      " [  71  296]\n",
      " [  29  328]\n",
      " [  22  285]\n",
      " [ 464  238]\n",
      " [ 421  198]]\n"
     ]
    }
   ],
   "source": [
    "import xml.etree.ElementTree as ET\n",
    "import numpy as np\n",
    "\n",
    "# Extract <point> tags from annotation XML and creates np matrix of coords\n",
    "def extract_xml_points(xml_ann_path):\n",
    "    tree = ET.parse(xml_ann_path)\n",
    "    root = tree.getroot()\n",
    "    points = []\n",
    "    for obj in root.findall('object'):\n",
    "        for point in obj.findall('point'):\n",
    "            x = int(point.find('x').text)\n",
    "            y = int(point.find('y').text)\n",
    "            points.append([x, y])\n",
    "    points_arr = np.array(points)\n",
    "    return points_arr\n",
    "\n",
    "# Example usage\n",
    "xml_file_path = '../test/0016.xml'\n",
    "points_array = extract_xml_points(xml_file_path)\n",
    "\n",
    "print(points_array)"
   ]
  },
  {
   "cell_type": "code",
   "execution_count": 8,
   "metadata": {},
   "outputs": [
    {
     "name": "stdout",
     "output_type": "stream",
     "text": [
      "<PIL.JpegImagePlugin.JpegImageFile image mode=RGB size=4256x2832 at 0x1049D8B10>\n",
      "(2832, 4256, 3)\n",
      "<PIL.Image.Image image mode=RGB size=4256x2832 at 0x127D93750>\n"
     ]
    }
   ],
   "source": [
    "from PIL import Image\n",
    "import numpy as np\n",
    "\n",
    "im = Image.open(\"test/img_0001.jpg\")\n",
    "print(im)\n",
    "im = np.array(im)\n",
    "print(im.shape)\n",
    "im_arr = Image.fromarray(im)\n",
    "print(im_arr)"
   ]
  },
  {
   "cell_type": "code",
   "execution_count": 10,
   "metadata": {},
   "outputs": [
    {
     "name": "stdout",
     "output_type": "stream",
     "text": [
      "[[ 445.19424 1790.518  ]\n",
      " [ 474.8705  1739.259  ]\n",
      " [ 512.64026 1820.1942 ]\n",
      " ...\n",
      " [ 972.7157  1494.6793 ]\n",
      " [1933.0287   181.25717]\n",
      " [1572.6423   134.19641]]\n",
      "975\n"
     ]
    }
   ],
   "source": [
    "array_loaded = np.load('test/img_0001_test.npy')\n",
    "# array_loaded = np.load('test/img_0720_train.npy') # Image: h, w, avg dist to nearest 3 points\n",
    "print(array_loaded)\n",
    "print(len(array_loaded))   "
   ]
  }
 ],
 "metadata": {
  "kernelspec": {
   "display_name": "Python 3",
   "language": "python",
   "name": "python3"
  },
  "language_info": {
   "codemirror_mode": {
    "name": "ipython",
    "version": 3
   },
   "file_extension": ".py",
   "mimetype": "text/x-python",
   "name": "python",
   "nbconvert_exporter": "python",
   "pygments_lexer": "ipython3",
   "version": "3.11.6"
  }
 },
 "nbformat": 4,
 "nbformat_minor": 2
}
